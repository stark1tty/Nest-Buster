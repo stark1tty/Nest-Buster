## This script recurses through a given directory to find nested tags in your markdown notes and replaces them with individual tags. 
### Example: #tag1/tag2/tag3 will be replaced with #tag1, #tag2, and #tag3
## Please make sure to back up your files before running this script as it will make changes in place.

import os
import re

# Define the path to your notes directory
notes_directory = 'YOUR/PATH/HERE'  # replace with your actual directory path

# Define function to update nested tags in a single file
def update_tags_in_file(file_path):
    print(f"Opening file: {file_path}")
    with open(file_path, 'r', encoding='utf-8') as file:
        content = file.read()

    # Use regular expressions to find all instances of nested tags and replace them
    # This pattern matches tags that start with a hash and can have multiple levels separated by slashes
    nested_tags_pattern = re.compile(r'#([\w]+(?:\/[\w]+)+)')
    new_content, number_of_subs = nested_tags_pattern.subn(
        lambda m: ' '.join('#' + tag for tag in m.group(1).split('/')), content)

    # Write the updated content back to the file if any nested tags were found and replaced
    if number_of_subs > 0:
        with open(file_path, 'w', encoding='utf-8') as file:
            file.write(new_content)
        print(f"Updated {number_of_subs} nested tags in {file_path}")
    else:
        print(f"No nested tags found in {file_path}")

# Function to process all markdown files within a directory and its subdirectories
def process_all_files(directory):
    print(f"Scanning directory for Markdown files: {directory}")
    
    for root, dirs, files in os.walk(directory):
        for file_name in files:
            # Check if the file is a markdown file
            if file_name.endswith('.md'):
                # Construct the full file path
                file_path = os.path.join(root, file_name)
                # Update the tags in this markdown file
                update_tags_in_file(file_path)
    
    print("Finished processing all files.")

# Start processing all markdown files in the provided directory
process_all_files(notes_directory)
